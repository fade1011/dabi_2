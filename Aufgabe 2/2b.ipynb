{
 "cells": [
  {
   "cell_type": "code",
   "execution_count": 1,
   "metadata": {},
   "outputs": [],
   "source": [
    "import pandas as pd\n",
    "import plotly.express as px\n",
    "import numpy as np\n",
    "import matplotlib.pyplot as plt\n",
    "import plotly.io as pio\n",
    "\n",
    "from sklearn.preprocessing import StandardScaler\n",
    "from sklearn.pipeline import Pipeline\n",
    "from sklearn.compose import ColumnTransformer\n",
    "from sklearn.linear_model import Ridge, Lasso\n",
    "from sklearn.model_selection import GridSearchCV\n",
    "from sklearn.metrics import r2_score, mean_squared_error, mean_absolute_error"
   ]
  },
  {
   "cell_type": "code",
   "execution_count": 2,
   "metadata": {},
   "outputs": [
    {
     "name": "stderr",
     "output_type": "stream",
     "text": [
      "C:\\Users\\Ready2Go\\AppData\\Local\\Temp\\ipykernel_28444\\861419453.py:13: SettingWithCopyWarning: \n",
      "A value is trying to be set on a copy of a slice from a DataFrame.\n",
      "Try using .loc[row_indexer,col_indexer] = value instead\n",
      "\n",
      "See the caveats in the documentation: https://pandas.pydata.org/pandas-docs/stable/user_guide/indexing.html#returning-a-view-versus-a-copy\n",
      "  sales_camping['year_month'] = sales_camping['Datum'].dt.to_period('M')\n"
     ]
    }
   ],
   "source": [
    "wea_geo = pd.read_csv('../Data/Wetterdaten_Custom/wea_geo.csv')\n",
    "sales = pd.read_csv('../Data/Umsatzdaten/processed_umsatz.csv')\n",
    "\n",
    "wea_geo['MESS_DATUM'] = pd.to_datetime(wea_geo['MESS_DATUM'])\n",
    "\n",
    "sales['Datum'] = pd.to_datetime(sales['Datum']).dt.normalize()\n",
    "\n",
    "# Weather data from 1994 onwards\n",
    "wea_geo = wea_geo[wea_geo['MESS_DATUM'] >= '1994']\n",
    "\n",
    "# Sales only from camping pitches\n",
    "sales_camping = sales[sales['Gastgewerbe'] == 'WZ08-553'] \n",
    "sales_camping['year_month'] = sales_camping['Datum'].dt.to_period('M')"
   ]
  },
  {
   "cell_type": "code",
   "execution_count": 3,
   "metadata": {},
   "outputs": [],
   "source": [
    "# Modell evaluation\n",
    "def print_evaluation(X_train, X_test, y_train, y_test, y_train_pred, y_test_pred):\n",
    "    \"\"\" Ausgabe von R2-Wert, MSE, MAE und Accuracy für Trainings- und Testset \"\"\"\n",
    "    r2_train = r2_score(y_train, y_train_pred)\n",
    "    mse_train = mean_squared_error(y_train, y_train_pred)\n",
    "    mae_train = mean_absolute_error(y_train, y_train_pred)\n",
    "\n",
    "    r2_test = r2_score(y_test, y_test_pred)\n",
    "    mse_test = mean_squared_error(y_test, y_test_pred)\n",
    "    mae_test = mean_absolute_error(y_test, y_test_pred)\n",
    "\n",
    "    print(\n",
    "        f\"{'':6} {'R²':>10} | {'MSE':>14} | {'MAE':>10} |  {'rows':>8} | {'columns':>8}\\n\"\n",
    "        f\"{'Train':6} {r2_train:10.5f} | {mse_train:14.2f} | {mae_train:10.2f} | {X_train.shape[0]:8}  | {X_train.shape[1]:8}\\n\"\n",
    "        f\"{'Test':6} {r2_test:10.5f} | {mse_test:14.2f} | {mae_test:10.2f} | {X_test.shape[0]:8}  | {X_test.shape[1]:8}\\n\"\n",
    "    )"
   ]
  },
  {
   "cell_type": "code",
   "execution_count": 4,
   "metadata": {},
   "outputs": [
    {
     "data": {
      "text/html": [
       "<div>\n",
       "<style scoped>\n",
       "    .dataframe tbody tr th:only-of-type {\n",
       "        vertical-align: middle;\n",
       "    }\n",
       "\n",
       "    .dataframe tbody tr th {\n",
       "        vertical-align: top;\n",
       "    }\n",
       "\n",
       "    .dataframe thead th {\n",
       "        text-align: right;\n",
       "    }\n",
       "</style>\n",
       "<table border=\"1\" class=\"dataframe\">\n",
       "  <thead>\n",
       "    <tr style=\"text-align: right;\">\n",
       "      <th></th>\n",
       "      <th>year_month</th>\n",
       "      <th>FX</th>\n",
       "      <th>FM</th>\n",
       "      <th>RSK</th>\n",
       "      <th>RSKF</th>\n",
       "      <th>SDK</th>\n",
       "      <th>SHK_TAG</th>\n",
       "      <th>NM</th>\n",
       "      <th>VPM</th>\n",
       "      <th>PM</th>\n",
       "      <th>TMK</th>\n",
       "      <th>UPM</th>\n",
       "      <th>TXK</th>\n",
       "      <th>TNK</th>\n",
       "      <th>TGK</th>\n",
       "      <th>TMK-1-week-before</th>\n",
       "      <th>TMK-2-weeks-before</th>\n",
       "      <th>TMK-3-weeks-before</th>\n",
       "    </tr>\n",
       "  </thead>\n",
       "  <tbody>\n",
       "    <tr>\n",
       "      <th>0</th>\n",
       "      <td>1994-01</td>\n",
       "      <td>15.732258</td>\n",
       "      <td>5.570565</td>\n",
       "      <td>3.223573</td>\n",
       "      <td>5.426799</td>\n",
       "      <td>1.549853</td>\n",
       "      <td>14.898470</td>\n",
       "      <td>6.425806</td>\n",
       "      <td>6.558313</td>\n",
       "      <td>954.895392</td>\n",
       "      <td>2.615881</td>\n",
       "      <td>84.695409</td>\n",
       "      <td>4.898759</td>\n",
       "      <td>0.347146</td>\n",
       "      <td>0.730645</td>\n",
       "      <td>2.447115</td>\n",
       "      <td>3.003620</td>\n",
       "      <td>3.104615</td>\n",
       "    </tr>\n",
       "    <tr>\n",
       "      <th>1</th>\n",
       "      <td>1994-02</td>\n",
       "      <td>11.806696</td>\n",
       "      <td>4.112500</td>\n",
       "      <td>1.403571</td>\n",
       "      <td>4.125000</td>\n",
       "      <td>2.711688</td>\n",
       "      <td>22.767857</td>\n",
       "      <td>5.633442</td>\n",
       "      <td>5.087202</td>\n",
       "      <td>960.312755</td>\n",
       "      <td>-0.246429</td>\n",
       "      <td>77.967262</td>\n",
       "      <td>2.713690</td>\n",
       "      <td>-3.108631</td>\n",
       "      <td>-3.246753</td>\n",
       "      <td>-0.022505</td>\n",
       "      <td>1.285623</td>\n",
       "      <td>2.346886</td>\n",
       "    </tr>\n",
       "    <tr>\n",
       "      <th>2</th>\n",
       "      <td>1994-03</td>\n",
       "      <td>16.812097</td>\n",
       "      <td>5.874597</td>\n",
       "      <td>3.261559</td>\n",
       "      <td>5.204301</td>\n",
       "      <td>3.475953</td>\n",
       "      <td>23.401760</td>\n",
       "      <td>5.996188</td>\n",
       "      <td>7.550269</td>\n",
       "      <td>958.937327</td>\n",
       "      <td>5.966398</td>\n",
       "      <td>78.451613</td>\n",
       "      <td>9.390054</td>\n",
       "      <td>2.853763</td>\n",
       "      <td>2.848680</td>\n",
       "      <td>4.760753</td>\n",
       "      <td>2.633871</td>\n",
       "      <td>1.164247</td>\n",
       "    </tr>\n",
       "  </tbody>\n",
       "</table>\n",
       "</div>"
      ],
      "text/plain": [
       "  year_month         FX        FM       RSK      RSKF       SDK    SHK_TAG  \\\n",
       "0    1994-01  15.732258  5.570565  3.223573  5.426799  1.549853  14.898470   \n",
       "1    1994-02  11.806696  4.112500  1.403571  4.125000  2.711688  22.767857   \n",
       "2    1994-03  16.812097  5.874597  3.261559  5.204301  3.475953  23.401760   \n",
       "\n",
       "         NM       VPM          PM       TMK        UPM       TXK       TNK  \\\n",
       "0  6.425806  6.558313  954.895392  2.615881  84.695409  4.898759  0.347146   \n",
       "1  5.633442  5.087202  960.312755 -0.246429  77.967262  2.713690 -3.108631   \n",
       "2  5.996188  7.550269  958.937327  5.966398  78.451613  9.390054  2.853763   \n",
       "\n",
       "        TGK  TMK-1-week-before  TMK-2-weeks-before  TMK-3-weeks-before  \n",
       "0  0.730645           2.447115            3.003620            3.104615  \n",
       "1 -3.246753          -0.022505            1.285623            2.346886  \n",
       "2  2.848680           4.760753            2.633871            1.164247  "
      ]
     },
     "execution_count": 4,
     "metadata": {},
     "output_type": "execute_result"
    }
   ],
   "source": [
    "wea_geo = wea_geo.drop(columns=['QN_3', 'QN_4', 'STATIONS_ID', 'Stations_id', 'Stationshoehe', 'Geogr.Breite', 'Geogr.Laenge', 'von_datum', 'bis_datum', 'Stationsname', 'geometry' ])\n",
    "\n",
    "# the weather of each day, regardless of the station\n",
    "wea_days = wea_geo.groupby('MESS_DATUM').mean().reset_index()\n",
    "\n",
    "# Add shifted by weeks\n",
    "wea_days['TMK-1-week-before'] = wea_days['TMK'].shift(7)\n",
    "wea_days['TMK-2-weeks-before'] = wea_days['TMK'].shift(14)\n",
    "wea_days['TMK-3-weeks-before'] = wea_days['TMK'].shift(21)\n",
    "\n",
    "wea_days['year_month'] = wea_days['MESS_DATUM'].dt.to_period('M')\n",
    "wea_month = wea_days.groupby('year_month').mean().reset_index()\n",
    "wea_month = wea_month.drop(columns=['MESS_DATUM'])\n",
    "wea_month.head(3)"
   ]
  },
  {
   "cell_type": "code",
   "execution_count": 5,
   "metadata": {},
   "outputs": [
    {
     "data": {
      "text/html": [
       "<div>\n",
       "<style scoped>\n",
       "    .dataframe tbody tr th:only-of-type {\n",
       "        vertical-align: middle;\n",
       "    }\n",
       "\n",
       "    .dataframe tbody tr th {\n",
       "        vertical-align: top;\n",
       "    }\n",
       "\n",
       "    .dataframe thead th {\n",
       "        text-align: right;\n",
       "    }\n",
       "</style>\n",
       "<table border=\"1\" class=\"dataframe\">\n",
       "  <thead>\n",
       "    <tr style=\"text-align: right;\">\n",
       "      <th></th>\n",
       "      <th>Gastgewerbe</th>\n",
       "      <th>Umsatz</th>\n",
       "      <th>Datum</th>\n",
       "      <th>year_month</th>\n",
       "      <th>FX</th>\n",
       "      <th>FM</th>\n",
       "      <th>RSK</th>\n",
       "      <th>RSKF</th>\n",
       "      <th>SDK</th>\n",
       "      <th>SHK_TAG</th>\n",
       "      <th>...</th>\n",
       "      <th>PM</th>\n",
       "      <th>TMK</th>\n",
       "      <th>UPM</th>\n",
       "      <th>TXK</th>\n",
       "      <th>TNK</th>\n",
       "      <th>TGK</th>\n",
       "      <th>TMK-1-week-before</th>\n",
       "      <th>TMK-2-weeks-before</th>\n",
       "      <th>TMK-3-weeks-before</th>\n",
       "      <th>TMK-previous-month</th>\n",
       "    </tr>\n",
       "  </thead>\n",
       "  <tbody>\n",
       "    <tr>\n",
       "      <th>0</th>\n",
       "      <td>WZ08-553</td>\n",
       "      <td>68.4</td>\n",
       "      <td>1994-01-01</td>\n",
       "      <td>1994-01</td>\n",
       "      <td>15.732258</td>\n",
       "      <td>5.570565</td>\n",
       "      <td>3.223573</td>\n",
       "      <td>5.426799</td>\n",
       "      <td>1.549853</td>\n",
       "      <td>14.898470</td>\n",
       "      <td>...</td>\n",
       "      <td>954.895392</td>\n",
       "      <td>2.615881</td>\n",
       "      <td>84.695409</td>\n",
       "      <td>4.898759</td>\n",
       "      <td>0.347146</td>\n",
       "      <td>0.730645</td>\n",
       "      <td>2.447115</td>\n",
       "      <td>3.003620</td>\n",
       "      <td>3.104615</td>\n",
       "      <td>NaN</td>\n",
       "    </tr>\n",
       "    <tr>\n",
       "      <th>1</th>\n",
       "      <td>WZ08-553</td>\n",
       "      <td>52.2</td>\n",
       "      <td>1994-02-01</td>\n",
       "      <td>1994-02</td>\n",
       "      <td>11.806696</td>\n",
       "      <td>4.112500</td>\n",
       "      <td>1.403571</td>\n",
       "      <td>4.125000</td>\n",
       "      <td>2.711688</td>\n",
       "      <td>22.767857</td>\n",
       "      <td>...</td>\n",
       "      <td>960.312755</td>\n",
       "      <td>-0.246429</td>\n",
       "      <td>77.967262</td>\n",
       "      <td>2.713690</td>\n",
       "      <td>-3.108631</td>\n",
       "      <td>-3.246753</td>\n",
       "      <td>-0.022505</td>\n",
       "      <td>1.285623</td>\n",
       "      <td>2.346886</td>\n",
       "      <td>2.615881</td>\n",
       "    </tr>\n",
       "    <tr>\n",
       "      <th>2</th>\n",
       "      <td>WZ08-553</td>\n",
       "      <td>81.8</td>\n",
       "      <td>1994-03-01</td>\n",
       "      <td>1994-03</td>\n",
       "      <td>16.812097</td>\n",
       "      <td>5.874597</td>\n",
       "      <td>3.261559</td>\n",
       "      <td>5.204301</td>\n",
       "      <td>3.475953</td>\n",
       "      <td>23.401760</td>\n",
       "      <td>...</td>\n",
       "      <td>958.937327</td>\n",
       "      <td>5.966398</td>\n",
       "      <td>78.451613</td>\n",
       "      <td>9.390054</td>\n",
       "      <td>2.853763</td>\n",
       "      <td>2.848680</td>\n",
       "      <td>4.760753</td>\n",
       "      <td>2.633871</td>\n",
       "      <td>1.164247</td>\n",
       "      <td>-0.246429</td>\n",
       "    </tr>\n",
       "  </tbody>\n",
       "</table>\n",
       "<p>3 rows × 22 columns</p>\n",
       "</div>"
      ],
      "text/plain": [
       "  Gastgewerbe  Umsatz      Datum year_month         FX        FM       RSK  \\\n",
       "0    WZ08-553    68.4 1994-01-01    1994-01  15.732258  5.570565  3.223573   \n",
       "1    WZ08-553    52.2 1994-02-01    1994-02  11.806696  4.112500  1.403571   \n",
       "2    WZ08-553    81.8 1994-03-01    1994-03  16.812097  5.874597  3.261559   \n",
       "\n",
       "       RSKF       SDK    SHK_TAG  ...          PM       TMK        UPM  \\\n",
       "0  5.426799  1.549853  14.898470  ...  954.895392  2.615881  84.695409   \n",
       "1  4.125000  2.711688  22.767857  ...  960.312755 -0.246429  77.967262   \n",
       "2  5.204301  3.475953  23.401760  ...  958.937327  5.966398  78.451613   \n",
       "\n",
       "        TXK       TNK       TGK  TMK-1-week-before  TMK-2-weeks-before  \\\n",
       "0  4.898759  0.347146  0.730645           2.447115            3.003620   \n",
       "1  2.713690 -3.108631 -3.246753          -0.022505            1.285623   \n",
       "2  9.390054  2.853763  2.848680           4.760753            2.633871   \n",
       "\n",
       "   TMK-3-weeks-before  TMK-previous-month  \n",
       "0            3.104615                 NaN  \n",
       "1            2.346886            2.615881  \n",
       "2            1.164247           -0.246429  \n",
       "\n",
       "[3 rows x 22 columns]"
      ]
     },
     "execution_count": 5,
     "metadata": {},
     "output_type": "execute_result"
    }
   ],
   "source": [
    "# Merge weather data with sales data\n",
    "sales_camping_wea = pd.merge(sales_camping, wea_month, left_on='year_month', right_on='year_month', how='left')\n",
    "sales_camping_wea = sales_camping_wea[sales_camping_wea['year_month'] <= '2023-06']\n",
    "\n",
    "sales_camping_wea['TMK-previous-month'] = sales_camping_wea['TMK'].shift(1)\n",
    "\n",
    "sales_camping_wea.head(3)"
   ]
  },
  {
   "cell_type": "code",
   "execution_count": 6,
   "metadata": {},
   "outputs": [
    {
     "data": {
      "text/html": [
       "<div>\n",
       "<style scoped>\n",
       "    .dataframe tbody tr th:only-of-type {\n",
       "        vertical-align: middle;\n",
       "    }\n",
       "\n",
       "    .dataframe tbody tr th {\n",
       "        vertical-align: top;\n",
       "    }\n",
       "\n",
       "    .dataframe thead th {\n",
       "        text-align: right;\n",
       "    }\n",
       "</style>\n",
       "<table border=\"1\" class=\"dataframe\">\n",
       "  <thead>\n",
       "    <tr style=\"text-align: right;\">\n",
       "      <th></th>\n",
       "      <th>Gastgewerbe</th>\n",
       "      <th>Datum</th>\n",
       "      <th>year_month</th>\n",
       "      <th>FX</th>\n",
       "      <th>FM</th>\n",
       "      <th>RSK</th>\n",
       "      <th>RSKF</th>\n",
       "      <th>SDK</th>\n",
       "      <th>SHK_TAG</th>\n",
       "      <th>NM</th>\n",
       "      <th>...</th>\n",
       "      <th>UPM</th>\n",
       "      <th>TXK</th>\n",
       "      <th>TNK</th>\n",
       "      <th>TGK</th>\n",
       "      <th>TMK-1-week-before</th>\n",
       "      <th>TMK-2-weeks-before</th>\n",
       "      <th>TMK-3-weeks-before</th>\n",
       "      <th>TMK-previous-month</th>\n",
       "      <th>Jahr</th>\n",
       "      <th>UmsatzNorm</th>\n",
       "    </tr>\n",
       "  </thead>\n",
       "  <tbody>\n",
       "    <tr>\n",
       "      <th>0</th>\n",
       "      <td>WZ08-553</td>\n",
       "      <td>1994-01-01</td>\n",
       "      <td>1994-01</td>\n",
       "      <td>15.732258</td>\n",
       "      <td>5.570565</td>\n",
       "      <td>3.223573</td>\n",
       "      <td>5.426799</td>\n",
       "      <td>1.549853</td>\n",
       "      <td>14.898470</td>\n",
       "      <td>6.425806</td>\n",
       "      <td>...</td>\n",
       "      <td>84.695409</td>\n",
       "      <td>4.898759</td>\n",
       "      <td>0.347146</td>\n",
       "      <td>0.730645</td>\n",
       "      <td>2.447115</td>\n",
       "      <td>3.003620</td>\n",
       "      <td>3.104615</td>\n",
       "      <td>NaN</td>\n",
       "      <td>1994</td>\n",
       "      <td>-0.144465</td>\n",
       "    </tr>\n",
       "    <tr>\n",
       "      <th>1</th>\n",
       "      <td>WZ08-553</td>\n",
       "      <td>1994-02-01</td>\n",
       "      <td>1994-02</td>\n",
       "      <td>11.806696</td>\n",
       "      <td>4.112500</td>\n",
       "      <td>1.403571</td>\n",
       "      <td>4.125000</td>\n",
       "      <td>2.711688</td>\n",
       "      <td>22.767857</td>\n",
       "      <td>5.633442</td>\n",
       "      <td>...</td>\n",
       "      <td>77.967262</td>\n",
       "      <td>2.713690</td>\n",
       "      <td>-3.108631</td>\n",
       "      <td>-3.246753</td>\n",
       "      <td>-0.022505</td>\n",
       "      <td>1.285623</td>\n",
       "      <td>2.346886</td>\n",
       "      <td>2.615881</td>\n",
       "      <td>1994</td>\n",
       "      <td>-0.347092</td>\n",
       "    </tr>\n",
       "    <tr>\n",
       "      <th>2</th>\n",
       "      <td>WZ08-553</td>\n",
       "      <td>1994-03-01</td>\n",
       "      <td>1994-03</td>\n",
       "      <td>16.812097</td>\n",
       "      <td>5.874597</td>\n",
       "      <td>3.261559</td>\n",
       "      <td>5.204301</td>\n",
       "      <td>3.475953</td>\n",
       "      <td>23.401760</td>\n",
       "      <td>5.996188</td>\n",
       "      <td>...</td>\n",
       "      <td>78.451613</td>\n",
       "      <td>9.390054</td>\n",
       "      <td>2.853763</td>\n",
       "      <td>2.848680</td>\n",
       "      <td>4.760753</td>\n",
       "      <td>2.633871</td>\n",
       "      <td>1.164247</td>\n",
       "      <td>-0.246429</td>\n",
       "      <td>1994</td>\n",
       "      <td>0.023139</td>\n",
       "    </tr>\n",
       "  </tbody>\n",
       "</table>\n",
       "<p>3 rows × 23 columns</p>\n",
       "</div>"
      ],
      "text/plain": [
       "  Gastgewerbe      Datum year_month         FX        FM       RSK      RSKF  \\\n",
       "0    WZ08-553 1994-01-01    1994-01  15.732258  5.570565  3.223573  5.426799   \n",
       "1    WZ08-553 1994-02-01    1994-02  11.806696  4.112500  1.403571  4.125000   \n",
       "2    WZ08-553 1994-03-01    1994-03  16.812097  5.874597  3.261559  5.204301   \n",
       "\n",
       "        SDK    SHK_TAG        NM  ...        UPM       TXK       TNK  \\\n",
       "0  1.549853  14.898470  6.425806  ...  84.695409  4.898759  0.347146   \n",
       "1  2.711688  22.767857  5.633442  ...  77.967262  2.713690 -3.108631   \n",
       "2  3.475953  23.401760  5.996188  ...  78.451613  9.390054  2.853763   \n",
       "\n",
       "        TGK  TMK-1-week-before  TMK-2-weeks-before  TMK-3-weeks-before  \\\n",
       "0  0.730645           2.447115            3.003620            3.104615   \n",
       "1 -3.246753          -0.022505            1.285623            2.346886   \n",
       "2  2.848680           4.760753            2.633871            1.164247   \n",
       "\n",
       "   TMK-previous-month  Jahr  UmsatzNorm  \n",
       "0                 NaN  1994   -0.144465  \n",
       "1            2.615881  1994   -0.347092  \n",
       "2           -0.246429  1994    0.023139  \n",
       "\n",
       "[3 rows x 23 columns]"
      ]
     },
     "execution_count": 6,
     "metadata": {},
     "output_type": "execute_result"
    }
   ],
   "source": [
    "# Umsatz normieren\n",
    "durchschnitt_pro_jahr = sales_camping_wea.groupby(sales_camping_wea[\"Datum\"].dt.year)['Umsatz'].mean().reset_index()\n",
    "\n",
    "durchschnitt_pro_jahr.columns = ['Jahr', 'UmsatzDurchschnitt'] \n",
    "\n",
    "sales_camping_wea = sales_camping_wea.merge(durchschnitt_pro_jahr, left_on=sales_camping_wea[\"Datum\"].dt.year, right_on='Jahr', suffixes=('', 'Durchschnitt'))\n",
    "\n",
    "sales_camping_wea[\"UmsatzNorm\"] = (sales_camping_wea[\"Umsatz\"] / sales_camping_wea[\"UmsatzDurchschnitt\"]) - 1\n",
    "\n",
    "sales_camping_wea = sales_camping_wea.drop(columns=['UmsatzDurchschnitt', 'Umsatz'])\n",
    "\n",
    "sales_camping_wea.head(3)"
   ]
  },
  {
   "cell_type": "code",
   "execution_count": 7,
   "metadata": {},
   "outputs": [],
   "source": [
    "# Jahr und Monat jeweils als integer\n",
    "sales_camping_wea['Monat'] = sales_camping_wea['Datum'].dt.month.astype(int)\n",
    "\n",
    "sales_camping_wea['Jahr'] = sales_camping_wea['Jahr'].astype(int)\n",
    "\n",
    "sales_camping_wea = sales_camping_wea.drop(columns=['Gastgewerbe', 'year_month', 'Datum'])\n",
    "\n",
    "sales_camping_wea.fillna(sales_camping_wea.mean(), inplace=True)"
   ]
  },
  {
   "cell_type": "markdown",
   "metadata": {},
   "source": [
    "## Modeltraining"
   ]
  },
  {
   "cell_type": "code",
   "execution_count": 8,
   "metadata": {},
   "outputs": [],
   "source": [
    "X = sales_camping_wea.copy()\n",
    "\n",
    "y = X.pop('UmsatzNorm')\n",
    "\n",
    "features_to_scale = ['FX', 'FM', 'RSK', 'RSKF', 'SDK', 'SHK_TAG', 'NM', 'VPM', 'PM', 'TMK', 'UPM', 'TXK', 'TNK', 'TGK', 'TMK-1-week-before', 'TMK-2-weeks-before', 'TMK-3-weeks-before', 'TMK-previous-month']\n",
    "\n",
    "scaler = StandardScaler()\n",
    "\n",
    "# Normalize features\n",
    "X[features_to_scale] = scaler.fit_transform(X[features_to_scale])\n",
    "\n",
    "split_index = int(len(X) * 0.8)\n",
    "\n",
    "X_train = X.iloc[:split_index]\n",
    "X_test = X.iloc[split_index:]\n",
    "\n",
    "y_train = y.iloc[:split_index]\n",
    "y_test = y.iloc[split_index:]"
   ]
  },
  {
   "cell_type": "code",
   "execution_count": 9,
   "metadata": {},
   "outputs": [
    {
     "name": "stdout",
     "output_type": "stream",
     "text": [
      "Fitting 3 folds for each of 6 candidates, totalling 18 fits\n"
     ]
    },
    {
     "data": {
      "text/html": [
       "<style>#sk-container-id-1 {color: black;}#sk-container-id-1 pre{padding: 0;}#sk-container-id-1 div.sk-toggleable {background-color: white;}#sk-container-id-1 label.sk-toggleable__label {cursor: pointer;display: block;width: 100%;margin-bottom: 0;padding: 0.3em;box-sizing: border-box;text-align: center;}#sk-container-id-1 label.sk-toggleable__label-arrow:before {content: \"▸\";float: left;margin-right: 0.25em;color: #696969;}#sk-container-id-1 label.sk-toggleable__label-arrow:hover:before {color: black;}#sk-container-id-1 div.sk-estimator:hover label.sk-toggleable__label-arrow:before {color: black;}#sk-container-id-1 div.sk-toggleable__content {max-height: 0;max-width: 0;overflow: hidden;text-align: left;background-color: #f0f8ff;}#sk-container-id-1 div.sk-toggleable__content pre {margin: 0.2em;color: black;border-radius: 0.25em;background-color: #f0f8ff;}#sk-container-id-1 input.sk-toggleable__control:checked~div.sk-toggleable__content {max-height: 200px;max-width: 100%;overflow: auto;}#sk-container-id-1 input.sk-toggleable__control:checked~label.sk-toggleable__label-arrow:before {content: \"▾\";}#sk-container-id-1 div.sk-estimator input.sk-toggleable__control:checked~label.sk-toggleable__label {background-color: #d4ebff;}#sk-container-id-1 div.sk-label input.sk-toggleable__control:checked~label.sk-toggleable__label {background-color: #d4ebff;}#sk-container-id-1 input.sk-hidden--visually {border: 0;clip: rect(1px 1px 1px 1px);clip: rect(1px, 1px, 1px, 1px);height: 1px;margin: -1px;overflow: hidden;padding: 0;position: absolute;width: 1px;}#sk-container-id-1 div.sk-estimator {font-family: monospace;background-color: #f0f8ff;border: 1px dotted black;border-radius: 0.25em;box-sizing: border-box;margin-bottom: 0.5em;}#sk-container-id-1 div.sk-estimator:hover {background-color: #d4ebff;}#sk-container-id-1 div.sk-parallel-item::after {content: \"\";width: 100%;border-bottom: 1px solid gray;flex-grow: 1;}#sk-container-id-1 div.sk-label:hover label.sk-toggleable__label {background-color: #d4ebff;}#sk-container-id-1 div.sk-serial::before {content: \"\";position: absolute;border-left: 1px solid gray;box-sizing: border-box;top: 0;bottom: 0;left: 50%;z-index: 0;}#sk-container-id-1 div.sk-serial {display: flex;flex-direction: column;align-items: center;background-color: white;padding-right: 0.2em;padding-left: 0.2em;position: relative;}#sk-container-id-1 div.sk-item {position: relative;z-index: 1;}#sk-container-id-1 div.sk-parallel {display: flex;align-items: stretch;justify-content: center;background-color: white;position: relative;}#sk-container-id-1 div.sk-item::before, #sk-container-id-1 div.sk-parallel-item::before {content: \"\";position: absolute;border-left: 1px solid gray;box-sizing: border-box;top: 0;bottom: 0;left: 50%;z-index: -1;}#sk-container-id-1 div.sk-parallel-item {display: flex;flex-direction: column;z-index: 1;position: relative;background-color: white;}#sk-container-id-1 div.sk-parallel-item:first-child::after {align-self: flex-end;width: 50%;}#sk-container-id-1 div.sk-parallel-item:last-child::after {align-self: flex-start;width: 50%;}#sk-container-id-1 div.sk-parallel-item:only-child::after {width: 0;}#sk-container-id-1 div.sk-dashed-wrapped {border: 1px dashed gray;margin: 0 0.4em 0.5em 0.4em;box-sizing: border-box;padding-bottom: 0.4em;background-color: white;}#sk-container-id-1 div.sk-label label {font-family: monospace;font-weight: bold;display: inline-block;line-height: 1.2em;}#sk-container-id-1 div.sk-label-container {text-align: center;}#sk-container-id-1 div.sk-container {/* jupyter's `normalize.less` sets `[hidden] { display: none; }` but bootstrap.min.css set `[hidden] { display: none !important; }` so we also need the `!important` here to be able to override the default hidden behavior on the sphinx rendered scikit-learn.org. See: https://github.com/scikit-learn/scikit-learn/issues/21755 */display: inline-block !important;position: relative;}#sk-container-id-1 div.sk-text-repr-fallback {display: none;}</style><div id=\"sk-container-id-1\" class=\"sk-top-container\"><div class=\"sk-text-repr-fallback\"><pre>GridSearchCV(cv=3, error_score=&#x27;raise&#x27;,\n",
       "             estimator=Pipeline(steps=[(&#x27;ridge&#x27;, Ridge())]),\n",
       "             param_grid={&#x27;ridge__alpha&#x27;: [0.1, 1.0, 10.0],\n",
       "                         &#x27;ridge__fit_intercept&#x27;: [False, True]},\n",
       "             verbose=True)</pre><b>In a Jupyter environment, please rerun this cell to show the HTML representation or trust the notebook. <br />On GitHub, the HTML representation is unable to render, please try loading this page with nbviewer.org.</b></div><div class=\"sk-container\" hidden><div class=\"sk-item sk-dashed-wrapped\"><div class=\"sk-label-container\"><div class=\"sk-label sk-toggleable\"><input class=\"sk-toggleable__control sk-hidden--visually\" id=\"sk-estimator-id-1\" type=\"checkbox\" ><label for=\"sk-estimator-id-1\" class=\"sk-toggleable__label sk-toggleable__label-arrow\">GridSearchCV</label><div class=\"sk-toggleable__content\"><pre>GridSearchCV(cv=3, error_score=&#x27;raise&#x27;,\n",
       "             estimator=Pipeline(steps=[(&#x27;ridge&#x27;, Ridge())]),\n",
       "             param_grid={&#x27;ridge__alpha&#x27;: [0.1, 1.0, 10.0],\n",
       "                         &#x27;ridge__fit_intercept&#x27;: [False, True]},\n",
       "             verbose=True)</pre></div></div></div><div class=\"sk-parallel\"><div class=\"sk-parallel-item\"><div class=\"sk-item\"><div class=\"sk-label-container\"><div class=\"sk-label sk-toggleable\"><input class=\"sk-toggleable__control sk-hidden--visually\" id=\"sk-estimator-id-2\" type=\"checkbox\" ><label for=\"sk-estimator-id-2\" class=\"sk-toggleable__label sk-toggleable__label-arrow\">estimator: Pipeline</label><div class=\"sk-toggleable__content\"><pre>Pipeline(steps=[(&#x27;ridge&#x27;, Ridge())])</pre></div></div></div><div class=\"sk-serial\"><div class=\"sk-item\"><div class=\"sk-serial\"><div class=\"sk-item\"><div class=\"sk-estimator sk-toggleable\"><input class=\"sk-toggleable__control sk-hidden--visually\" id=\"sk-estimator-id-3\" type=\"checkbox\" ><label for=\"sk-estimator-id-3\" class=\"sk-toggleable__label sk-toggleable__label-arrow\">Ridge</label><div class=\"sk-toggleable__content\"><pre>Ridge()</pre></div></div></div></div></div></div></div></div></div></div></div></div>"
      ],
      "text/plain": [
       "GridSearchCV(cv=3, error_score='raise',\n",
       "             estimator=Pipeline(steps=[('ridge', Ridge())]),\n",
       "             param_grid={'ridge__alpha': [0.1, 1.0, 10.0],\n",
       "                         'ridge__fit_intercept': [False, True]},\n",
       "             verbose=True)"
      ]
     },
     "execution_count": 9,
     "metadata": {},
     "output_type": "execute_result"
    }
   ],
   "source": [
    "ridge_pipe = Pipeline([\n",
    "    (\"ridge\", Ridge())\n",
    "])\n",
    "\n",
    "param_grid_ridge = {\n",
    "    \"ridge__fit_intercept\": [False, True],  # Set fit_intercept to False for sparse data\n",
    "    \"ridge__alpha\": [0.1, 1.0, 10.0],\n",
    "}\n",
    "\n",
    "gs_ridge = GridSearchCV(ridge_pipe, param_grid_ridge, cv=3, error_score='raise', verbose=True)\n",
    "gs_ridge.fit(X_train, y_train)"
   ]
  },
  {
   "cell_type": "code",
   "execution_count": 10,
   "metadata": {},
   "outputs": [
    {
     "name": "stdout",
     "output_type": "stream",
     "text": [
      "Beste Parameter: {'ridge__alpha': 0.1, 'ridge__fit_intercept': False}\n"
     ]
    }
   ],
   "source": [
    "# Beste Parameter\n",
    "best_params = gs_ridge.best_params_\n",
    "print(\"Beste Parameter:\", best_params)"
   ]
  },
  {
   "cell_type": "code",
   "execution_count": 11,
   "metadata": {},
   "outputs": [
    {
     "name": "stdout",
     "output_type": "stream",
     "text": [
      "Evaluation Ridge:\n",
      "               R² |            MSE |        MAE |      rows |  columns\n",
      "Train     0.75372 |           0.04 |       0.16 |      283  |       20\n",
      "Test      0.76455 |           0.05 |       0.18 |       71  |       20\n",
      "\n"
     ]
    }
   ],
   "source": [
    "# Vorhersagen für Train- und Testdaten \n",
    "y_test_pred_ridge = gs_ridge.predict(X_test)\n",
    "y_train_pred_ridge = gs_ridge.predict(X_train)\n",
    "\n",
    "# Evaluation\n",
    "print(\"Evaluation Ridge:\")\n",
    "print_evaluation(X_train, X_test, y_train, y_test, y_train_pred_ridge, y_test_pred_ridge)"
   ]
  },
  {
   "cell_type": "code",
   "execution_count": 12,
   "metadata": {},
   "outputs": [
    {
     "data": {
      "application/vnd.plotly.v1+json": {
       "config": {
        "plotlyServerURL": "https://plot.ly"
       },
       "data": [
        {
         "alignmentgroup": "True",
         "bingroup": "x",
         "histfunc": "sum",
         "hovertemplate": "Feature=%{x}<br>sum of Feature Importance=%{y}<extra></extra>",
         "legendgroup": "",
         "marker": {
          "color": "#636efa",
          "pattern": {
           "shape": ""
          }
         },
         "name": "",
         "offsetgroup": "",
         "orientation": "v",
         "showlegend": false,
         "type": "histogram",
         "x": [
          "SHK_TAG",
          "UPM",
          "TMK",
          "VPM",
          "PM",
          "RSK",
          "TMK-1-week-before",
          "Monat",
          "Jahr",
          "TXK",
          "FM",
          "TMK-previous-month",
          "TNK",
          "NM",
          "TGK",
          "RSKF",
          "SDK",
          "TMK-2-weeks-before",
          "FX",
          "TMK-3-weeks-before"
         ],
         "xaxis": "x",
         "y": [
          0.6732055219626906,
          -0.5006589525456149,
          0.31804967914225346,
          -0.28870233822114055,
          -0.2559544839197392,
          -0.10916246650792712,
          0.09938265170156659,
          0.08178141637876858,
          -0.07265765226442591,
          0.06734273922657882,
          0.05517626528285388,
          -0.04253991366425661,
          -0.036997879260011524,
          0.02674119779847356,
          -0.02413640111179614,
          0.01656427525179999,
          -0.01480331158951082,
          -0.014777756828711377,
          0.014440219856778255,
          0.0001401708682113378
         ],
         "yaxis": "y"
        }
       ],
       "layout": {
        "barmode": "relative",
        "legend": {
         "tracegroupgap": 0
        },
        "template": {
         "data": {
          "bar": [
           {
            "error_x": {
             "color": "#2a3f5f"
            },
            "error_y": {
             "color": "#2a3f5f"
            },
            "marker": {
             "line": {
              "color": "#E5ECF6",
              "width": 0.5
             },
             "pattern": {
              "fillmode": "overlay",
              "size": 10,
              "solidity": 0.2
             }
            },
            "type": "bar"
           }
          ],
          "barpolar": [
           {
            "marker": {
             "line": {
              "color": "#E5ECF6",
              "width": 0.5
             },
             "pattern": {
              "fillmode": "overlay",
              "size": 10,
              "solidity": 0.2
             }
            },
            "type": "barpolar"
           }
          ],
          "carpet": [
           {
            "aaxis": {
             "endlinecolor": "#2a3f5f",
             "gridcolor": "white",
             "linecolor": "white",
             "minorgridcolor": "white",
             "startlinecolor": "#2a3f5f"
            },
            "baxis": {
             "endlinecolor": "#2a3f5f",
             "gridcolor": "white",
             "linecolor": "white",
             "minorgridcolor": "white",
             "startlinecolor": "#2a3f5f"
            },
            "type": "carpet"
           }
          ],
          "choropleth": [
           {
            "colorbar": {
             "outlinewidth": 0,
             "ticks": ""
            },
            "type": "choropleth"
           }
          ],
          "contour": [
           {
            "colorbar": {
             "outlinewidth": 0,
             "ticks": ""
            },
            "colorscale": [
             [
              0,
              "#0d0887"
             ],
             [
              0.1111111111111111,
              "#46039f"
             ],
             [
              0.2222222222222222,
              "#7201a8"
             ],
             [
              0.3333333333333333,
              "#9c179e"
             ],
             [
              0.4444444444444444,
              "#bd3786"
             ],
             [
              0.5555555555555556,
              "#d8576b"
             ],
             [
              0.6666666666666666,
              "#ed7953"
             ],
             [
              0.7777777777777778,
              "#fb9f3a"
             ],
             [
              0.8888888888888888,
              "#fdca26"
             ],
             [
              1,
              "#f0f921"
             ]
            ],
            "type": "contour"
           }
          ],
          "contourcarpet": [
           {
            "colorbar": {
             "outlinewidth": 0,
             "ticks": ""
            },
            "type": "contourcarpet"
           }
          ],
          "heatmap": [
           {
            "colorbar": {
             "outlinewidth": 0,
             "ticks": ""
            },
            "colorscale": [
             [
              0,
              "#0d0887"
             ],
             [
              0.1111111111111111,
              "#46039f"
             ],
             [
              0.2222222222222222,
              "#7201a8"
             ],
             [
              0.3333333333333333,
              "#9c179e"
             ],
             [
              0.4444444444444444,
              "#bd3786"
             ],
             [
              0.5555555555555556,
              "#d8576b"
             ],
             [
              0.6666666666666666,
              "#ed7953"
             ],
             [
              0.7777777777777778,
              "#fb9f3a"
             ],
             [
              0.8888888888888888,
              "#fdca26"
             ],
             [
              1,
              "#f0f921"
             ]
            ],
            "type": "heatmap"
           }
          ],
          "heatmapgl": [
           {
            "colorbar": {
             "outlinewidth": 0,
             "ticks": ""
            },
            "colorscale": [
             [
              0,
              "#0d0887"
             ],
             [
              0.1111111111111111,
              "#46039f"
             ],
             [
              0.2222222222222222,
              "#7201a8"
             ],
             [
              0.3333333333333333,
              "#9c179e"
             ],
             [
              0.4444444444444444,
              "#bd3786"
             ],
             [
              0.5555555555555556,
              "#d8576b"
             ],
             [
              0.6666666666666666,
              "#ed7953"
             ],
             [
              0.7777777777777778,
              "#fb9f3a"
             ],
             [
              0.8888888888888888,
              "#fdca26"
             ],
             [
              1,
              "#f0f921"
             ]
            ],
            "type": "heatmapgl"
           }
          ],
          "histogram": [
           {
            "marker": {
             "pattern": {
              "fillmode": "overlay",
              "size": 10,
              "solidity": 0.2
             }
            },
            "type": "histogram"
           }
          ],
          "histogram2d": [
           {
            "colorbar": {
             "outlinewidth": 0,
             "ticks": ""
            },
            "colorscale": [
             [
              0,
              "#0d0887"
             ],
             [
              0.1111111111111111,
              "#46039f"
             ],
             [
              0.2222222222222222,
              "#7201a8"
             ],
             [
              0.3333333333333333,
              "#9c179e"
             ],
             [
              0.4444444444444444,
              "#bd3786"
             ],
             [
              0.5555555555555556,
              "#d8576b"
             ],
             [
              0.6666666666666666,
              "#ed7953"
             ],
             [
              0.7777777777777778,
              "#fb9f3a"
             ],
             [
              0.8888888888888888,
              "#fdca26"
             ],
             [
              1,
              "#f0f921"
             ]
            ],
            "type": "histogram2d"
           }
          ],
          "histogram2dcontour": [
           {
            "colorbar": {
             "outlinewidth": 0,
             "ticks": ""
            },
            "colorscale": [
             [
              0,
              "#0d0887"
             ],
             [
              0.1111111111111111,
              "#46039f"
             ],
             [
              0.2222222222222222,
              "#7201a8"
             ],
             [
              0.3333333333333333,
              "#9c179e"
             ],
             [
              0.4444444444444444,
              "#bd3786"
             ],
             [
              0.5555555555555556,
              "#d8576b"
             ],
             [
              0.6666666666666666,
              "#ed7953"
             ],
             [
              0.7777777777777778,
              "#fb9f3a"
             ],
             [
              0.8888888888888888,
              "#fdca26"
             ],
             [
              1,
              "#f0f921"
             ]
            ],
            "type": "histogram2dcontour"
           }
          ],
          "mesh3d": [
           {
            "colorbar": {
             "outlinewidth": 0,
             "ticks": ""
            },
            "type": "mesh3d"
           }
          ],
          "parcoords": [
           {
            "line": {
             "colorbar": {
              "outlinewidth": 0,
              "ticks": ""
             }
            },
            "type": "parcoords"
           }
          ],
          "pie": [
           {
            "automargin": true,
            "type": "pie"
           }
          ],
          "scatter": [
           {
            "fillpattern": {
             "fillmode": "overlay",
             "size": 10,
             "solidity": 0.2
            },
            "type": "scatter"
           }
          ],
          "scatter3d": [
           {
            "line": {
             "colorbar": {
              "outlinewidth": 0,
              "ticks": ""
             }
            },
            "marker": {
             "colorbar": {
              "outlinewidth": 0,
              "ticks": ""
             }
            },
            "type": "scatter3d"
           }
          ],
          "scattercarpet": [
           {
            "marker": {
             "colorbar": {
              "outlinewidth": 0,
              "ticks": ""
             }
            },
            "type": "scattercarpet"
           }
          ],
          "scattergeo": [
           {
            "marker": {
             "colorbar": {
              "outlinewidth": 0,
              "ticks": ""
             }
            },
            "type": "scattergeo"
           }
          ],
          "scattergl": [
           {
            "marker": {
             "colorbar": {
              "outlinewidth": 0,
              "ticks": ""
             }
            },
            "type": "scattergl"
           }
          ],
          "scattermapbox": [
           {
            "marker": {
             "colorbar": {
              "outlinewidth": 0,
              "ticks": ""
             }
            },
            "type": "scattermapbox"
           }
          ],
          "scatterpolar": [
           {
            "marker": {
             "colorbar": {
              "outlinewidth": 0,
              "ticks": ""
             }
            },
            "type": "scatterpolar"
           }
          ],
          "scatterpolargl": [
           {
            "marker": {
             "colorbar": {
              "outlinewidth": 0,
              "ticks": ""
             }
            },
            "type": "scatterpolargl"
           }
          ],
          "scatterternary": [
           {
            "marker": {
             "colorbar": {
              "outlinewidth": 0,
              "ticks": ""
             }
            },
            "type": "scatterternary"
           }
          ],
          "surface": [
           {
            "colorbar": {
             "outlinewidth": 0,
             "ticks": ""
            },
            "colorscale": [
             [
              0,
              "#0d0887"
             ],
             [
              0.1111111111111111,
              "#46039f"
             ],
             [
              0.2222222222222222,
              "#7201a8"
             ],
             [
              0.3333333333333333,
              "#9c179e"
             ],
             [
              0.4444444444444444,
              "#bd3786"
             ],
             [
              0.5555555555555556,
              "#d8576b"
             ],
             [
              0.6666666666666666,
              "#ed7953"
             ],
             [
              0.7777777777777778,
              "#fb9f3a"
             ],
             [
              0.8888888888888888,
              "#fdca26"
             ],
             [
              1,
              "#f0f921"
             ]
            ],
            "type": "surface"
           }
          ],
          "table": [
           {
            "cells": {
             "fill": {
              "color": "#EBF0F8"
             },
             "line": {
              "color": "white"
             }
            },
            "header": {
             "fill": {
              "color": "#C8D4E3"
             },
             "line": {
              "color": "white"
             }
            },
            "type": "table"
           }
          ]
         },
         "layout": {
          "annotationdefaults": {
           "arrowcolor": "#2a3f5f",
           "arrowhead": 0,
           "arrowwidth": 1
          },
          "autotypenumbers": "strict",
          "coloraxis": {
           "colorbar": {
            "outlinewidth": 0,
            "ticks": ""
           }
          },
          "colorscale": {
           "diverging": [
            [
             0,
             "#8e0152"
            ],
            [
             0.1,
             "#c51b7d"
            ],
            [
             0.2,
             "#de77ae"
            ],
            [
             0.3,
             "#f1b6da"
            ],
            [
             0.4,
             "#fde0ef"
            ],
            [
             0.5,
             "#f7f7f7"
            ],
            [
             0.6,
             "#e6f5d0"
            ],
            [
             0.7,
             "#b8e186"
            ],
            [
             0.8,
             "#7fbc41"
            ],
            [
             0.9,
             "#4d9221"
            ],
            [
             1,
             "#276419"
            ]
           ],
           "sequential": [
            [
             0,
             "#0d0887"
            ],
            [
             0.1111111111111111,
             "#46039f"
            ],
            [
             0.2222222222222222,
             "#7201a8"
            ],
            [
             0.3333333333333333,
             "#9c179e"
            ],
            [
             0.4444444444444444,
             "#bd3786"
            ],
            [
             0.5555555555555556,
             "#d8576b"
            ],
            [
             0.6666666666666666,
             "#ed7953"
            ],
            [
             0.7777777777777778,
             "#fb9f3a"
            ],
            [
             0.8888888888888888,
             "#fdca26"
            ],
            [
             1,
             "#f0f921"
            ]
           ],
           "sequentialminus": [
            [
             0,
             "#0d0887"
            ],
            [
             0.1111111111111111,
             "#46039f"
            ],
            [
             0.2222222222222222,
             "#7201a8"
            ],
            [
             0.3333333333333333,
             "#9c179e"
            ],
            [
             0.4444444444444444,
             "#bd3786"
            ],
            [
             0.5555555555555556,
             "#d8576b"
            ],
            [
             0.6666666666666666,
             "#ed7953"
            ],
            [
             0.7777777777777778,
             "#fb9f3a"
            ],
            [
             0.8888888888888888,
             "#fdca26"
            ],
            [
             1,
             "#f0f921"
            ]
           ]
          },
          "colorway": [
           "#636efa",
           "#EF553B",
           "#00cc96",
           "#ab63fa",
           "#FFA15A",
           "#19d3f3",
           "#FF6692",
           "#B6E880",
           "#FF97FF",
           "#FECB52"
          ],
          "font": {
           "color": "#2a3f5f"
          },
          "geo": {
           "bgcolor": "white",
           "lakecolor": "white",
           "landcolor": "#E5ECF6",
           "showlakes": true,
           "showland": true,
           "subunitcolor": "white"
          },
          "hoverlabel": {
           "align": "left"
          },
          "hovermode": "closest",
          "mapbox": {
           "style": "light"
          },
          "paper_bgcolor": "white",
          "plot_bgcolor": "#E5ECF6",
          "polar": {
           "angularaxis": {
            "gridcolor": "white",
            "linecolor": "white",
            "ticks": ""
           },
           "bgcolor": "#E5ECF6",
           "radialaxis": {
            "gridcolor": "white",
            "linecolor": "white",
            "ticks": ""
           }
          },
          "scene": {
           "xaxis": {
            "backgroundcolor": "#E5ECF6",
            "gridcolor": "white",
            "gridwidth": 2,
            "linecolor": "white",
            "showbackground": true,
            "ticks": "",
            "zerolinecolor": "white"
           },
           "yaxis": {
            "backgroundcolor": "#E5ECF6",
            "gridcolor": "white",
            "gridwidth": 2,
            "linecolor": "white",
            "showbackground": true,
            "ticks": "",
            "zerolinecolor": "white"
           },
           "zaxis": {
            "backgroundcolor": "#E5ECF6",
            "gridcolor": "white",
            "gridwidth": 2,
            "linecolor": "white",
            "showbackground": true,
            "ticks": "",
            "zerolinecolor": "white"
           }
          },
          "shapedefaults": {
           "line": {
            "color": "#2a3f5f"
           }
          },
          "ternary": {
           "aaxis": {
            "gridcolor": "white",
            "linecolor": "white",
            "ticks": ""
           },
           "baxis": {
            "gridcolor": "white",
            "linecolor": "white",
            "ticks": ""
           },
           "bgcolor": "#E5ECF6",
           "caxis": {
            "gridcolor": "white",
            "linecolor": "white",
            "ticks": ""
           }
          },
          "title": {
           "x": 0.05
          },
          "xaxis": {
           "automargin": true,
           "gridcolor": "white",
           "linecolor": "white",
           "ticks": "",
           "title": {
            "standoff": 15
           },
           "zerolinecolor": "white",
           "zerolinewidth": 2
          },
          "yaxis": {
           "automargin": true,
           "gridcolor": "white",
           "linecolor": "white",
           "ticks": "",
           "title": {
            "standoff": 15
           },
           "zerolinecolor": "white",
           "zerolinewidth": 2
          }
         }
        },
        "title": {
         "text": "Feature Importance (Values > 0.02)"
        },
        "xaxis": {
         "anchor": "y",
         "domain": [
          0,
          1
         ],
         "title": {
          "text": "Feature"
         }
        },
        "yaxis": {
         "anchor": "x",
         "domain": [
          0,
          1
         ],
         "title": {
          "text": "sum of Feature Importance"
         }
        }
       }
      }
     },
     "metadata": {},
     "output_type": "display_data"
    }
   ],
   "source": [
    "# Beste Ridge-Regression-Instanz aus der GridSearchCV\n",
    "best_ridge_model = gs_ridge.best_estimator_['ridge']\n",
    "\n",
    "# Extrahiere die Koeffizienten\n",
    "ridge_coefficients = best_ridge_model.coef_\n",
    "\n",
    "# Füge das Datum zur Liste der Features hinzu\n",
    "features = ['Jahr'] + ['Monat'] + features_to_scale\n",
    "\n",
    "# DataFrame für die Koeffizienten erstellen\n",
    "ridge_coefficients_df = pd.DataFrame({\n",
    "    'Feature': features,\n",
    "    'Coefficient': ridge_coefficients\n",
    "})\n",
    "\n",
    "# Sortiere das DataFrame nach Koeffizientenbetrag absteigend\n",
    "ridge_coefficients_df = ridge_coefficients_df.reindex(ridge_coefficients_df['Coefficient'].abs().sort_values(ascending=False).index)\n",
    "\n",
    "# Visualisierung der Koeffizienten\n",
    "fig = px.histogram(ridge_coefficients_df, x='Feature', y='Coefficient', labels={'Coefficient': 'Feature Importance'}, title='Feature Importance (Values > 0.02)')\n",
    "fig.show()"
   ]
  }
 ],
 "metadata": {
  "kernelspec": {
   "display_name": "Python 3",
   "language": "python",
   "name": "python3"
  },
  "language_info": {
   "codemirror_mode": {
    "name": "ipython",
    "version": 3
   },
   "file_extension": ".py",
   "mimetype": "text/x-python",
   "name": "python",
   "nbconvert_exporter": "python",
   "pygments_lexer": "ipython3",
   "version": "3.10.5"
  }
 },
 "nbformat": 4,
 "nbformat_minor": 2
}
