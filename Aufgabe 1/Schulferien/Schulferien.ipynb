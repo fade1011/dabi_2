{
 "cells": [
  {
   "cell_type": "code",
   "execution_count": 2,
   "id": "75e2e518",
   "metadata": {},
   "outputs": [],
   "source": [
    "import re\n",
    "from datetime import datetime\n",
    "import pandas as pd\n",
    "import pypdf\n",
    "from pypdf import PdfReader\n",
    "import glob"
   ]
  },
  {
   "cell_type": "code",
   "execution_count": 5,
   "id": "23e46858",
   "metadata": {
    "scrolled": false
   },
   "outputs": [],
   "source": [
    "bundeslaender = [\"Baden-Württemberg\", \"Bayern\", \"Berlin\", \"Brandenburg\", \"Bremen\", \"Hamburg\", \"Hessen\", \"Mecklenburg-Vorpommern\",\n",
    "                \"Niedersachsen\", \"Nordrhein-Westfalen\", \"Rheinland-Pfalz\", \"Saarland\", \"Sachsen\", \"Sachsen-Anhalt\", \"Schleswig-Holstein\", \"Thüringen\"]\n",
    "\n",
    "pattern = r'(' + '|'.join(re.escape(s) for s in bundeslaender) + r') [\\d(]'\n",
    "\n",
    "def add_year(date, cmp, years):\n",
    "    if int(date[3:5]) >= cmp:\n",
    "        return date + str(years[0])\n",
    "    return date + str(years[1])\n",
    "\n",
    "def replace(string, *replace_targets, replace='a'):\n",
    "    for replace_target in replace_targets:\n",
    "        string = string.replace(replace_target, replace)\n",
    "    return string\n",
    "\n",
    "files = glob.glob(\"Daten\\*.pdf\")\n",
    "files.sort()\n",
    "\n",
    "results = []\n",
    "\n",
    "for file in files:\n",
    "    reader = PdfReader(file)\n",
    "    number_of_pages = len(reader.pages)\n",
    "    page = reader.pages[0]\n",
    "    text = page.extract_text()\n",
    "    years = re.findall(\"\\n\\d{4}\", text)\n",
    "    years = [int(year.strip(\"\\n \")) for year in years]\n",
    "    year = (min(years), min(years) + 1)\n",
    "\n",
    "    for line in text.split(\"\\n\"):\n",
    "        bundesland = re.findall(pattern, line)\n",
    "        if len(bundesland) >= 1:\n",
    "            bundesland = bundesland[0] # Select the matches Bundesland which is at the start of the line\n",
    "            dates = [date for date in  re.findall(\"\\d{2}\\.\\d{2}\\. ?[-\\+–] ?\\d{2}\\.\\d{2}\\.\" ,line)]\n",
    "            dates = [replace(date, \"+\", \"–\", replace=\"-\") for date in dates]\n",
    "            dates = [date.replace(\" \", \"\").split(\"-\") for date in dates]\n",
    "\n",
    "            # TODO: pull out solo dates as well\n",
    "\n",
    "            # Pull out the month as an anchor for the date\n",
    "            # Since we have years e.g. | 2000 - - - | 2001 - - - |\n",
    "            # And all months that are in 2001 in this exmaple would be below the first month in 2000 since it covers a year\n",
    "            # We save that first month. If the month is >= its the same year and if its < its the next year\n",
    "            if not dates:\n",
    "                continue\n",
    "\n",
    "            comparison_month = int(dates[0][0][3:5])\n",
    "            for date1, date2 in dates:\n",
    "                date1 = add_year(date1, comparison_month, year)\n",
    "                date2 = add_year(date2, comparison_month, year)\n",
    "                date1 = datetime.strptime(date1, \"%d.%m.%Y\")\n",
    "                date2 = datetime.strptime(date2, \"%d.%m.%Y\")\n",
    "                results.append({\n",
    "                    \"Ferien Start\": date1,\n",
    "                    \"Ferien Ende\": date2,\n",
    "                    \"Bundesland\": bundesland\n",
    "                })\n",
    "\n",
    "df = pd.DataFrame(results).sort_values(by=[\"Ferien Start\"]).reset_index(drop=True)"
   ]
  },
  {
   "cell_type": "code",
   "execution_count": 6,
   "id": "427678d6",
   "metadata": {},
   "outputs": [],
   "source": [
    "df.to_csv(\"./ferien.csv\", index=False)"
   ]
  }
 ],
 "metadata": {
  "kernelspec": {
   "display_name": "Python 3 (ipykernel)",
   "language": "python",
   "name": "python3"
  },
  "language_info": {
   "codemirror_mode": {
    "name": "ipython",
    "version": 3
   },
   "file_extension": ".py",
   "mimetype": "text/x-python",
   "name": "python",
   "nbconvert_exporter": "python",
   "pygments_lexer": "ipython3",
   "version": "3.10.5"
  }
 },
 "nbformat": 4,
 "nbformat_minor": 5
}
